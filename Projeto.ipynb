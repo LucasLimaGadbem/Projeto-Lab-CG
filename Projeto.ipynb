{
 "cells": [
  {
   "cell_type": "markdown",
   "metadata": {},
   "source": [
    "Importando as bibliotecas e o vídeo"
   ]
  },
  {
   "cell_type": "code",
   "execution_count": 1,
   "metadata": {},
   "outputs": [],
   "source": [
    "import moviepy.editor as mpe\n",
    "import numpy as np\n",
    "\n",
    "video = mpe.VideoFileClip(\"Original.mp4\")"
   ]
  },
  {
   "cell_type": "markdown",
   "metadata": {},
   "source": [
    "Invertendo a imagem a cada 20s"
   ]
  },
  {
   "cell_type": "code",
   "execution_count": null,
   "metadata": {},
   "outputs": [],
   "source": [
    "# Função para inverter a imagem horizontalmente\n",
    "def inverter_frame(frame):\n",
    "    return np.flip(frame, axis=1)  # Inverter horizontalmente\n",
    "\n",
    "# Função para processar o vídeo a cada 20 segundos\n",
    "def processar_video(clip):\n",
    "    def inverter_a_cada_20s(get_frame, t):\n",
    "        # Verificar se está em um intervalo de 20 segundos\n",
    "        if int(t) // 20 % 2 == 1:\n",
    "            frame = get_frame(t)\n",
    "            return inverter_frame(frame)\n",
    "        else:\n",
    "            return get_frame(t)\n",
    "    \n",
    "    return clip.fl(inverter_a_cada_20s)\n",
    "\n",
    "# Processar o vídeo\n",
    "video_invertido = processar_video(video)\n",
    "\n",
    "# Salvar o vídeo processado\n",
    "video_invertido.write_videofile(\"video_invertido.mp4\", codec=\"libx264\")"
   ]
  },
  {
   "cell_type": "markdown",
   "metadata": {},
   "source": [
    "Diminuindo o volume a cada 30s"
   ]
  },
  {
   "cell_type": "code",
   "execution_count": null,
   "metadata": {},
   "outputs": [],
   "source": [
    "def volume_function(t, audio_shape):\n",
    "\n",
    "    mask = t >= duracao_total - 10\n",
    "    intervals = t // 30\n",
    "    factors = 1 - 0.1 * intervals\n",
    "    factors[mask] = 0.0\n",
    "    return np.tile(np.maximum(factors, 0.0), (audio_shape[1], 1)).T\n",
    "\n",
    "def aplicar_volume(get_audio_frame, t):\n",
    "    \n",
    "    audio_frame = get_audio_frame(t)\n",
    "    fator = volume_function(t, audio_frame.shape)\n",
    "    # Verificando se os tipos de dados são compatíveis\n",
    "    if audio_frame.dtype != fator.dtype:\n",
    "        fator = fator.astype(audio_frame.dtype)\n",
    "    return audio_frame * fator\n",
    "\n",
    "# Carregar o vídeo\n",
    "video_invertido_com_audio = mpe.VideoFileClip(\"video_invertido.mp4\")\n",
    "duracao_total = video_invertido_com_audio.duration\n",
    "\n",
    "# Aplicar a redução de volume\n",
    "audio_reduzido = video_invertido_com_audio.audio.fl(aplicar_volume)\n",
    "\n",
    "# Combinar o vídeo e o áudio\n",
    "video_final = video_invertido_com_audio.set_audio(audio_reduzido)\n",
    "\n",
    "# Salvar o vídeo final\n",
    "video_final.write_videofile(\"video_final.mp4\", codec=\"libx264\")"
   ]
  },
  {
   "cell_type": "code",
   "execution_count": null,
   "metadata": {},
   "outputs": [],
   "source": [
    "parte1 = video_final.subclip(0,60)\n",
    "parte2 = video_final.subclip(60,80)\n",
    "parte3 = video_final.subclip(80)\n",
    "partes = mpe.concatenate_videoclips([parte1,parte3,parte2])\n",
    "\n",
    "partes.write_videofile('video_cortado.mp4')"
   ]
  }
 ],
 "metadata": {
  "kernelspec": {
   "display_name": "Python 3",
   "language": "python",
   "name": "python3"
  },
  "language_info": {
   "codemirror_mode": {
    "name": "ipython",
    "version": 3
   },
   "file_extension": ".py",
   "mimetype": "text/x-python",
   "name": "python",
   "nbconvert_exporter": "python",
   "pygments_lexer": "ipython3",
   "version": "3.12.4"
  }
 },
 "nbformat": 4,
 "nbformat_minor": 2
}
